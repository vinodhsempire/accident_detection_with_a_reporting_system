{
 "cells": [
  {
   "cell_type": "code",
   "execution_count": 1,
   "id": "93c20982",
   "metadata": {},
   "outputs": [],
   "source": [
    "import os\n",
    "import cv2     # for capturing videos\n",
    "import math \n",
    "import geocoder\n",
    "import requests\n",
    "%matplotlib inline\n",
    "import pandas as pd\n",
    "from twilio.rest import Client\n",
    "from geopy.geocoders import Nominatim\n",
    "from keras.preprocessing import image   # for preprocessing the images\n",
    "import numpy as np    # for mathematical operations\n",
    "from keras.utils import np_utils\n",
    "from matplotlib import pyplot as plt \n",
    "from skimage.transform import resize   # for resizing images"
   ]
  },
  {
   "cell_type": "code",
   "execution_count": 2,
   "id": "c9d50c3c",
   "metadata": {},
   "outputs": [
    {
     "name": "stdout",
     "output_type": "stream",
     "text": [
      "Done!\n"
     ]
    }
   ],
   "source": [
    "count = 0\n",
    "videoFile = \"Accidents.mp4\" \n",
    "cap = cv2.VideoCapture(videoFile)   # capturing the video from the given path\n",
    "frameRate = cap.get(5) #frame rate\n",
    "x=1\n",
    "while(cap.isOpened()):\n",
    "    frameId = cap.get(1) #current frame number\n",
    "    ret, frame = cap.read()\n",
    "    if (ret != True):\n",
    "        break\n",
    "    if (frameId % math.floor(frameRate) == 0):\n",
    "        filename =\"%d.jpg\" % count;count+=1\n",
    "        cv2.imwrite(filename, frame)\n",
    "cap.release()\n",
    "print (\"Done!\")"
   ]
  },
  {
   "cell_type": "code",
   "execution_count": 3,
   "id": "ed1ec509",
   "metadata": {},
   "outputs": [
    {
     "data": {
      "text/plain": [
       "<matplotlib.image.AxesImage at 0x1be8c8f9f40>"
      ]
     },
     "execution_count": 3,
     "metadata": {},
     "output_type": "execute_result"
    },
    {
     "data": {
      "image/png": "[encoded data removed]",
      "text/plain": [
       "<Figure size 432x288 with 1 Axes>"
      ]
     },
     "metadata": {
      "needs_background": "light"
     },
     "output_type": "display_data"
    }
   ],
   "source": [
    "img = plt.imread('0.jpg')   # reading image using its name\n",
    "plt.imshow(img)"
   ]
  },
  {
   "cell_type": "code",
   "execution_count": 4,
   "id": "9da41986",
   "metadata": {},
   "outputs": [
    {
     "data": {
      "text/html": [
       "<div>\n",
       "<style scoped>\n",
       "    .dataframe tbody tr th:only-of-type {\n",
       "        vertical-align: middle;\n",
       "    }\n",
       "\n",
       "    .dataframe tbody tr th {\n",
       "        vertical-align: top;\n",
       "    }\n",
       "\n",
       "    .dataframe thead th {\n",
       "        text-align: right;\n",
       "    }\n",
       "</style>\n",
       "<table border=\"1\" class=\"dataframe\">\n",
       "  <thead>\n",
       "    <tr style=\"text-align: right;\">\n",
       "      <th></th>\n",
       "      <th>Image_ID</th>\n",
       "      <th>Class</th>\n",
       "    </tr>\n",
       "  </thead>\n",
       "  <tbody>\n",
       "    <tr>\n",
       "      <th>0</th>\n",
       "      <td>0.jpg</td>\n",
       "      <td>1</td>\n",
       "    </tr>\n",
       "    <tr>\n",
       "      <th>1</th>\n",
       "      <td>1.jpg</td>\n",
       "      <td>1</td>\n",
       "    </tr>\n",
       "    <tr>\n",
       "      <th>2</th>\n",
       "      <td>2.jpg</td>\n",
       "      <td>1</td>\n",
       "    </tr>\n",
       "    <tr>\n",
       "      <th>3</th>\n",
       "      <td>3.jpg</td>\n",
       "      <td>1</td>\n",
       "    </tr>\n",
       "    <tr>\n",
       "      <th>4</th>\n",
       "      <td>4.jpg</td>\n",
       "      <td>1</td>\n",
       "    </tr>\n",
       "  </tbody>\n",
       "</table>\n",
       "</div>"
      ],
      "text/plain": [
       "  Image_ID  Class\n",
       "0    0.jpg      1\n",
       "1    1.jpg      1\n",
       "2    2.jpg      1\n",
       "3    3.jpg      1\n",
       "4    4.jpg      1"
      ]
     },
     "execution_count": 4,
     "metadata": {},
     "output_type": "execute_result"
    }
   ],
   "source": [
    "data = pd.read_csv('mapping.csv')     # reading the csv file\n",
    "data.head()"
   ]
  },
  {
   "cell_type": "code",
   "execution_count": 5,
   "id": "39a7f413",
   "metadata": {},
   "outputs": [],
   "source": [
    "X = [ ]     # creating an empty array\n",
    "for img_name in data.Image_ID:\n",
    "    img = plt.imread('' + img_name)\n",
    "    X.append(img)  # storing each image in array X\n",
    "X = np.array(X)    # converting list to array"
   ]
  },
  {
   "cell_type": "code",
   "execution_count": 6,
   "id": "e8119c04",
   "metadata": {},
   "outputs": [],
   "source": [
    "y = data.Class\n",
    "dummy_y = np_utils.to_categorical(y)"
   ]
  },
  {
   "cell_type": "code",
   "execution_count": 7,
   "id": "0f7cf107",
   "metadata": {},
   "outputs": [],
   "source": [
    "image = []\n",
    "for i in range(0,X.shape[0]):\n",
    "    a = resize(X[i], preserve_range=True, output_shape=(224,224)).astype(int)      # reshaping to 224*224*3\n",
    "    image.append(a)\n",
    "X = np.array(image)"
   ]
  },
  {
   "cell_type": "code",
   "execution_count": 8,
   "id": "2555ab63",
   "metadata": {},
   "outputs": [],
   "source": [
    "from keras.applications.vgg16 import preprocess_input\n",
    "X = preprocess_input(X,data_format=None)"
   ]
  },
  {
   "cell_type": "code",
   "execution_count": 9,
   "id": "21006e54",
   "metadata": {},
   "outputs": [],
   "source": [
    "from sklearn.model_selection import train_test_split\n",
    "X_train, X_valid, y_train, y_valid = train_test_split(X, dummy_y, test_size=0.3, random_state=42)"
   ]
  },
  {
   "cell_type": "code",
   "execution_count": 10,
   "id": "af20a283",
   "metadata": {},
   "outputs": [],
   "source": [
    "from keras.models import Sequential\n",
    "from keras.applications.vgg16 import VGG16\n",
    "from keras.layers import Dense, InputLayer, Dropout"
   ]
  },
  {
   "cell_type": "code",
   "execution_count": 11,
   "id": "47d94402",
   "metadata": {},
   "outputs": [],
   "source": [
    "base_model = VGG16(weights='imagenet', include_top=False, input_shape=(224, 224, 3)) "
   ]
  },
  {
   "cell_type": "code",
   "execution_count": 12,
   "id": "fb02ec43",
   "metadata": {},
   "outputs": [
    {
     "name": "stdout",
     "output_type": "stream",
     "text": [
      "5/5 [==============================] - 21s 4s/step\n",
      "3/3 [==============================] - 10s 3s/step\n"
     ]
    },
    {
     "data": {
      "text/plain": [
       "((155, 7, 7, 512), (67, 7, 7, 512))"
      ]
     },
     "execution_count": 12,
     "metadata": {},
     "output_type": "execute_result"
    }
   ],
   "source": [
    "X_train = base_model.predict(X_train)\n",
    "X_valid = base_model.predict(X_valid)\n",
    "X_train.shape, X_valid.shape"
   ]
  },
  {
   "cell_type": "code",
   "execution_count": 13,
   "id": "555111d7",
   "metadata": {},
   "outputs": [],
   "source": [
    "X_train = X_train.reshape(155, 7*7*512)      # converting to 1-D\n",
    "X_valid = X_valid.reshape(67, 7*7*512)"
   ]
  },
  {
   "cell_type": "code",
   "execution_count": 14,
   "id": "5a5a6732",
   "metadata": {},
   "outputs": [],
   "source": [
    "train = X_train/X_train.max()      # centering the data\n",
    "X_valid = X_valid/X_train.max()"
   ]
  },
  {
   "cell_type": "code",
   "execution_count": 15,
   "id": "57001716",
   "metadata": {},
   "outputs": [],
   "source": [
    "model = Sequential()\n",
    "model.add(InputLayer((7*7*512,)))    # input layer\n",
    "model.add(Dense(units=1024, activation='sigmoid')) # hidden layer\n",
    "model.add(Dense(2, activation='softmax'))    # output layer"
   ]
  },
  {
   "cell_type": "code",
   "execution_count": 16,
   "id": "586cff45",
   "metadata": {},
   "outputs": [
    {
     "name": "stdout",
     "output_type": "stream",
     "text": [
      "Model: \"sequential\"\n",
      "_________________________________________________________________\n",
      " Layer (type)                Output Shape              Param #   \n",
      "=================================================================\n",
      " dense (Dense)               (None, 1024)              25691136  \n",
      "                                                                 \n",
      " dense_1 (Dense)             (None, 2)                 2050      \n",
      "                                                                 \n",
      "=================================================================\n",
      "Total params: 25,693,186\n",
      "Trainable params: 25,693,186\n",
      "Non-trainable params: 0\n",
      "_________________________________________________________________\n"
     ]
    }
   ],
   "source": [
    "model.summary()"
   ]
  },
  {
   "cell_type": "code",
   "execution_count": 17,
   "id": "e36420f6",
   "metadata": {},
   "outputs": [],
   "source": [
    "model.compile(loss='categorical_crossentropy', optimizer='adam', metrics=['accuracy'])"
   ]
  },
  {
   "cell_type": "code",
   "execution_count": 18,
   "id": "20e00a1e",
   "metadata": {
    "scrolled": true
   },
   "outputs": [
    {
     "name": "stdout",
     "output_type": "stream",
     "text": [
      "Epoch 1/100\n",
      "5/5 [==============================] - 2s 230ms/step - loss: 0.9410 - accuracy: 0.5484 - val_loss: 0.7922 - val_accuracy: 0.6866\n",
      "Epoch 2/100\n",
      "5/5 [==============================] - 1s 197ms/step - loss: 0.4620 - accuracy: 0.7548 - val_loss: 0.7690 - val_accuracy: 0.7015\n",
      "Epoch 3/100\n",
      "5/5 [==============================] - 1s 180ms/step - loss: 0.2613 - accuracy: 0.8516 - val_loss: 0.7769 - val_accuracy: 0.7313\n",
      "Epoch 4/100\n",
      "5/5 [==============================] - 1s 178ms/step - loss: 0.1306 - accuracy: 0.9677 - val_loss: 0.7916 - val_accuracy: 0.8060\n",
      "Epoch 5/100\n",
      "5/5 [==============================] - 1s 181ms/step - loss: 0.1031 - accuracy: 0.9806 - val_loss: 0.7570 - val_accuracy: 0.8060\n",
      "Epoch 6/100\n",
      "5/5 [==============================] - 1s 178ms/step - loss: 0.0676 - accuracy: 1.0000 - val_loss: 0.7509 - val_accuracy: 0.7313\n",
      "Epoch 7/100\n",
      "5/5 [==============================] - 1s 180ms/step - loss: 0.0532 - accuracy: 0.9935 - val_loss: 0.7467 - val_accuracy: 0.7463\n",
      "Epoch 8/100\n",
      "5/5 [==============================] - 1s 185ms/step - loss: 0.0399 - accuracy: 1.0000 - val_loss: 0.7283 - val_accuracy: 0.7761\n",
      "Epoch 9/100\n",
      "5/5 [==============================] - 1s 199ms/step - loss: 0.0327 - accuracy: 1.0000 - val_loss: 0.7118 - val_accuracy: 0.8060\n",
      "Epoch 10/100\n",
      "5/5 [==============================] - 1s 198ms/step - loss: 0.0283 - accuracy: 1.0000 - val_loss: 0.6964 - val_accuracy: 0.8358\n",
      "Epoch 11/100\n",
      "5/5 [==============================] - 1s 187ms/step - loss: 0.0261 - accuracy: 1.0000 - val_loss: 0.6906 - val_accuracy: 0.8358\n",
      "Epoch 12/100\n",
      "5/5 [==============================] - 1s 199ms/step - loss: 0.0219 - accuracy: 1.0000 - val_loss: 0.7097 - val_accuracy: 0.8209\n",
      "Epoch 13/100\n",
      "5/5 [==============================] - 1s 192ms/step - loss: 0.0191 - accuracy: 1.0000 - val_loss: 0.7210 - val_accuracy: 0.7910\n",
      "Epoch 14/100\n",
      "5/5 [==============================] - 1s 181ms/step - loss: 0.0173 - accuracy: 1.0000 - val_loss: 0.7180 - val_accuracy: 0.7910\n",
      "Epoch 15/100\n",
      "5/5 [==============================] - 1s 186ms/step - loss: 0.0149 - accuracy: 1.0000 - val_loss: 0.7180 - val_accuracy: 0.7910\n",
      "Epoch 16/100\n",
      "5/5 [==============================] - 1s 192ms/step - loss: 0.0140 - accuracy: 1.0000 - val_loss: 0.7141 - val_accuracy: 0.7910\n",
      "Epoch 17/100\n",
      "5/5 [==============================] - 1s 184ms/step - loss: 0.0125 - accuracy: 1.0000 - val_loss: 0.7126 - val_accuracy: 0.8209\n",
      "Epoch 18/100\n",
      "5/5 [==============================] - 1s 183ms/step - loss: 0.0114 - accuracy: 1.0000 - val_loss: 0.7125 - val_accuracy: 0.8060\n",
      "Epoch 19/100\n",
      "5/5 [==============================] - 1s 192ms/step - loss: 0.0108 - accuracy: 1.0000 - val_loss: 0.7161 - val_accuracy: 0.8060\n",
      "Epoch 20/100\n",
      "5/5 [==============================] - 1s 178ms/step - loss: 0.0100 - accuracy: 1.0000 - val_loss: 0.7175 - val_accuracy: 0.8060\n",
      "Epoch 21/100\n",
      "5/5 [==============================] - 1s 182ms/step - loss: 0.0093 - accuracy: 1.0000 - val_loss: 0.7214 - val_accuracy: 0.8060\n",
      "Epoch 22/100\n",
      "5/5 [==============================] - 1s 180ms/step - loss: 0.0087 - accuracy: 1.0000 - val_loss: 0.7206 - val_accuracy: 0.8060\n",
      "Epoch 23/100\n",
      "5/5 [==============================] - 1s 182ms/step - loss: 0.0082 - accuracy: 1.0000 - val_loss: 0.7244 - val_accuracy: 0.8060\n",
      "Epoch 24/100\n",
      "5/5 [==============================] - 1s 193ms/step - loss: 0.0077 - accuracy: 1.0000 - val_loss: 0.7244 - val_accuracy: 0.8060\n",
      "Epoch 25/100\n",
      "5/5 [==============================] - 1s 176ms/step - loss: 0.0073 - accuracy: 1.0000 - val_loss: 0.7265 - val_accuracy: 0.8060\n",
      "Epoch 26/100\n",
      "5/5 [==============================] - 1s 186ms/step - loss: 0.0069 - accuracy: 1.0000 - val_loss: 0.7297 - val_accuracy: 0.8060\n",
      "Epoch 27/100\n",
      "5/5 [==============================] - 1s 185ms/step - loss: 0.0066 - accuracy: 1.0000 - val_loss: 0.7317 - val_accuracy: 0.8060\n",
      "Epoch 28/100\n",
      "5/5 [==============================] - 1s 189ms/step - loss: 0.0062 - accuracy: 1.0000 - val_loss: 0.7312 - val_accuracy: 0.8060\n",
      "Epoch 29/100\n",
      "5/5 [==============================] - 1s 190ms/step - loss: 0.0059 - accuracy: 1.0000 - val_loss: 0.7309 - val_accuracy: 0.8060\n",
      "Epoch 30/100\n",
      "5/5 [==============================] - 1s 191ms/step - loss: 0.0056 - accuracy: 1.0000 - val_loss: 0.7311 - val_accuracy: 0.8060\n",
      "Epoch 31/100\n",
      "5/5 [==============================] - 1s 184ms/step - loss: 0.0054 - accuracy: 1.0000 - val_loss: 0.7315 - val_accuracy: 0.8060\n",
      "Epoch 32/100\n",
      "5/5 [==============================] - 1s 182ms/step - loss: 0.0051 - accuracy: 1.0000 - val_loss: 0.7324 - val_accuracy: 0.8060\n",
      "Epoch 33/100\n",
      "5/5 [==============================] - 1s 186ms/step - loss: 0.0049 - accuracy: 1.0000 - val_loss: 0.7336 - val_accuracy: 0.8060\n",
      "Epoch 34/100\n",
      "5/5 [==============================] - 1s 182ms/step - loss: 0.0047 - accuracy: 1.0000 - val_loss: 0.7340 - val_accuracy: 0.8060\n",
      "Epoch 35/100\n",
      "5/5 [==============================] - 1s 192ms/step - loss: 0.0045 - accuracy: 1.0000 - val_loss: 0.7367 - val_accuracy: 0.8060\n",
      "Epoch 36/100\n",
      "5/5 [==============================] - 1s 178ms/step - loss: 0.0043 - accuracy: 1.0000 - val_loss: 0.7380 - val_accuracy: 0.8060\n",
      "Epoch 37/100\n",
      "5/5 [==============================] - 1s 175ms/step - loss: 0.0041 - accuracy: 1.0000 - val_loss: 0.7395 - val_accuracy: 0.8060\n",
      "Epoch 38/100\n",
      "5/5 [==============================] - 1s 175ms/step - loss: 0.0040 - accuracy: 1.0000 - val_loss: 0.7409 - val_accuracy: 0.8060\n",
      "Epoch 39/100\n",
      "5/5 [==============================] - 1s 179ms/step - loss: 0.0038 - accuracy: 1.0000 - val_loss: 0.7423 - val_accuracy: 0.8060\n",
      "Epoch 40/100\n",
      "5/5 [==============================] - 1s 174ms/step - loss: 0.0037 - accuracy: 1.0000 - val_loss: 0.7437 - val_accuracy: 0.8060\n",
      "Epoch 41/100\n",
      "5/5 [==============================] - 1s 170ms/step - loss: 0.0035 - accuracy: 1.0000 - val_loss: 0.7431 - val_accuracy: 0.8060\n",
      "Epoch 42/100\n",
      "5/5 [==============================] - 1s 171ms/step - loss: 0.0034 - accuracy: 1.0000 - val_loss: 0.7442 - val_accuracy: 0.8060\n",
      "Epoch 43/100\n",
      "5/5 [==============================] - 1s 172ms/step - loss: 0.0033 - accuracy: 1.0000 - val_loss: 0.7457 - val_accuracy: 0.8060\n",
      "Epoch 44/100\n",
      "5/5 [==============================] - 1s 185ms/step - loss: 0.0032 - accuracy: 1.0000 - val_loss: 0.7456 - val_accuracy: 0.8060\n",
      "Epoch 45/100\n",
      "5/5 [==============================] - 1s 183ms/step - loss: 0.0031 - accuracy: 1.0000 - val_loss: 0.7479 - val_accuracy: 0.8060\n",
      "Epoch 46/100\n",
      "5/5 [==============================] - 1s 196ms/step - loss: 0.0029 - accuracy: 1.0000 - val_loss: 0.7487 - val_accuracy: 0.8060\n",
      "Epoch 47/100\n",
      "5/5 [==============================] - 1s 187ms/step - loss: 0.0028 - accuracy: 1.0000 - val_loss: 0.7494 - val_accuracy: 0.8060\n",
      "Epoch 48/100\n",
      "5/5 [==============================] - 1s 197ms/step - loss: 0.0028 - accuracy: 1.0000 - val_loss: 0.7498 - val_accuracy: 0.8060\n",
      "Epoch 49/100\n",
      "5/5 [==============================] - 1s 195ms/step - loss: 0.0027 - accuracy: 1.0000 - val_loss: 0.7518 - val_accuracy: 0.8060\n",
      "Epoch 50/100\n",
      "5/5 [==============================] - 1s 193ms/step - loss: 0.0026 - accuracy: 1.0000 - val_loss: 0.7517 - val_accuracy: 0.8060\n",
      "Epoch 51/100\n",
      "5/5 [==============================] - 1s 203ms/step - loss: 0.0025 - accuracy: 1.0000 - val_loss: 0.7526 - val_accuracy: 0.8060\n",
      "Epoch 52/100\n",
      "5/5 [==============================] - 1s 197ms/step - loss: 0.0024 - accuracy: 1.0000 - val_loss: 0.7538 - val_accuracy: 0.8060\n",
      "Epoch 53/100\n",
      "5/5 [==============================] - 1s 201ms/step - loss: 0.0024 - accuracy: 1.0000 - val_loss: 0.7557 - val_accuracy: 0.8060\n",
      "Epoch 54/100\n",
      "5/5 [==============================] - 1s 191ms/step - loss: 0.0023 - accuracy: 1.0000 - val_loss: 0.7562 - val_accuracy: 0.8060\n",
      "Epoch 55/100\n",
      "5/5 [==============================] - 1s 183ms/step - loss: 0.0022 - accuracy: 1.0000 - val_loss: 0.7565 - val_accuracy: 0.8060\n",
      "Epoch 56/100\n",
      "5/5 [==============================] - 1s 182ms/step - loss: 0.0022 - accuracy: 1.0000 - val_loss: 0.7578 - val_accuracy: 0.8060\n",
      "Epoch 57/100\n",
      "5/5 [==============================] - 1s 181ms/step - loss: 0.0021 - accuracy: 1.0000 - val_loss: 0.7583 - val_accuracy: 0.8060\n",
      "Epoch 58/100\n",
      "5/5 [==============================] - 1s 178ms/step - loss: 0.0020 - accuracy: 1.0000 - val_loss: 0.7586 - val_accuracy: 0.8060\n",
      "Epoch 59/100\n",
      "5/5 [==============================] - 1s 179ms/step - loss: 0.0020 - accuracy: 1.0000 - val_loss: 0.7591 - val_accuracy: 0.8060\n",
      "Epoch 60/100\n",
      "5/5 [==============================] - 1s 172ms/step - loss: 0.0019 - accuracy: 1.0000 - val_loss: 0.7597 - val_accuracy: 0.8060\n",
      "Epoch 61/100\n",
      "5/5 [==============================] - 1s 191ms/step - loss: 0.0019 - accuracy: 1.0000 - val_loss: 0.7615 - val_accuracy: 0.8060\n",
      "Epoch 62/100\n",
      "5/5 [==============================] - 1s 184ms/step - loss: 0.0018 - accuracy: 1.0000 - val_loss: 0.7626 - val_accuracy: 0.8060\n",
      "Epoch 63/100\n",
      "5/5 [==============================] - 1s 195ms/step - loss: 0.0018 - accuracy: 1.0000 - val_loss: 0.7631 - val_accuracy: 0.8060\n",
      "Epoch 64/100\n",
      "5/5 [==============================] - 1s 192ms/step - loss: 0.0017 - accuracy: 1.0000 - val_loss: 0.7641 - val_accuracy: 0.8060\n",
      "Epoch 65/100\n",
      "5/5 [==============================] - 1s 213ms/step - loss: 0.0017 - accuracy: 1.0000 - val_loss: 0.7652 - val_accuracy: 0.8060\n",
      "Epoch 66/100\n",
      "5/5 [==============================] - 1s 200ms/step - loss: 0.0017 - accuracy: 1.0000 - val_loss: 0.7655 - val_accuracy: 0.8060\n",
      "Epoch 67/100\n",
      "5/5 [==============================] - 1s 191ms/step - loss: 0.0016 - accuracy: 1.0000 - val_loss: 0.7670 - val_accuracy: 0.8060\n",
      "Epoch 68/100\n",
      "5/5 [==============================] - 1s 189ms/step - loss: 0.0016 - accuracy: 1.0000 - val_loss: 0.7683 - val_accuracy: 0.8060\n",
      "Epoch 69/100\n",
      "5/5 [==============================] - 1s 199ms/step - loss: 0.0015 - accuracy: 1.0000 - val_loss: 0.7687 - val_accuracy: 0.8060\n",
      "Epoch 70/100\n",
      "5/5 [==============================] - 1s 187ms/step - loss: 0.0015 - accuracy: 1.0000 - val_loss: 0.7700 - val_accuracy: 0.8060\n",
      "Epoch 71/100\n",
      "5/5 [==============================] - 1s 191ms/step - loss: 0.0015 - accuracy: 1.0000 - val_loss: 0.7711 - val_accuracy: 0.8060\n",
      "Epoch 72/100\n",
      "5/5 [==============================] - 1s 185ms/step - loss: 0.0014 - accuracy: 1.0000 - val_loss: 0.7707 - val_accuracy: 0.8060\n",
      "Epoch 73/100\n",
      "5/5 [==============================] - 1s 182ms/step - loss: 0.0014 - accuracy: 1.0000 - val_loss: 0.7718 - val_accuracy: 0.8060\n",
      "Epoch 74/100\n",
      "5/5 [==============================] - 1s 182ms/step - loss: 0.0014 - accuracy: 1.0000 - val_loss: 0.7734 - val_accuracy: 0.8060\n",
      "Epoch 75/100\n",
      "5/5 [==============================] - 1s 176ms/step - loss: 0.0013 - accuracy: 1.0000 - val_loss: 0.7738 - val_accuracy: 0.8060\n",
      "Epoch 76/100\n",
      "5/5 [==============================] - 1s 177ms/step - loss: 0.0013 - accuracy: 1.0000 - val_loss: 0.7743 - val_accuracy: 0.8060\n",
      "Epoch 77/100\n",
      "5/5 [==============================] - 1s 176ms/step - loss: 0.0013 - accuracy: 1.0000 - val_loss: 0.7750 - val_accuracy: 0.8060\n",
      "Epoch 78/100\n",
      "5/5 [==============================] - 1s 194ms/step - loss: 0.0013 - accuracy: 1.0000 - val_loss: 0.7751 - val_accuracy: 0.8060\n",
      "Epoch 79/100\n",
      "5/5 [==============================] - 1s 193ms/step - loss: 0.0012 - accuracy: 1.0000 - val_loss: 0.7755 - val_accuracy: 0.8060\n",
      "Epoch 80/100\n",
      "5/5 [==============================] - 1s 189ms/step - loss: 0.0012 - accuracy: 1.0000 - val_loss: 0.7765 - val_accuracy: 0.8060\n",
      "Epoch 81/100\n",
      "5/5 [==============================] - 1s 190ms/step - loss: 0.0012 - accuracy: 1.0000 - val_loss: 0.7764 - val_accuracy: 0.8060\n",
      "Epoch 82/100\n",
      "5/5 [==============================] - 1s 198ms/step - loss: 0.0012 - accuracy: 1.0000 - val_loss: 0.7774 - val_accuracy: 0.8060\n",
      "Epoch 83/100\n",
      "5/5 [==============================] - 1s 195ms/step - loss: 0.0011 - accuracy: 1.0000 - val_loss: 0.7786 - val_accuracy: 0.8060\n",
      "Epoch 84/100\n",
      "5/5 [==============================] - 1s 204ms/step - loss: 0.0011 - accuracy: 1.0000 - val_loss: 0.7788 - val_accuracy: 0.8060\n",
      "Epoch 85/100\n",
      "5/5 [==============================] - 1s 190ms/step - loss: 0.0011 - accuracy: 1.0000 - val_loss: 0.7799 - val_accuracy: 0.8060\n",
      "Epoch 86/100\n",
      "5/5 [==============================] - 1s 201ms/step - loss: 0.0011 - accuracy: 1.0000 - val_loss: 0.7817 - val_accuracy: 0.8060\n",
      "Epoch 87/100\n",
      "5/5 [==============================] - 1s 197ms/step - loss: 0.0010 - accuracy: 1.0000 - val_loss: 0.7819 - val_accuracy: 0.8060\n",
      "Epoch 88/100\n",
      "5/5 [==============================] - 1s 193ms/step - loss: 0.0010 - accuracy: 1.0000 - val_loss: 0.7832 - val_accuracy: 0.8060\n",
      "Epoch 89/100\n",
      "5/5 [==============================] - 1s 195ms/step - loss: 0.0010 - accuracy: 1.0000 - val_loss: 0.7837 - val_accuracy: 0.8060\n",
      "Epoch 90/100\n",
      "5/5 [==============================] - 1s 182ms/step - loss: 9.8665e-04 - accuracy: 1.0000 - val_loss: 0.7839 - val_accuracy: 0.8060\n",
      "Epoch 91/100\n",
      "5/5 [==============================] - 1s 181ms/step - loss: 9.6766e-04 - accuracy: 1.0000 - val_loss: 0.7842 - val_accuracy: 0.8060\n",
      "Epoch 92/100\n",
      "5/5 [==============================] - 1s 174ms/step - loss: 9.4932e-04 - accuracy: 1.0000 - val_loss: 0.7849 - val_accuracy: 0.8060\n",
      "Epoch 93/100\n",
      "5/5 [==============================] - 1s 180ms/step - loss: 9.3268e-04 - accuracy: 1.0000 - val_loss: 0.7857 - val_accuracy: 0.8060\n",
      "Epoch 94/100\n",
      "5/5 [==============================] - 1s 182ms/step - loss: 9.1492e-04 - accuracy: 1.0000 - val_loss: 0.7863 - val_accuracy: 0.8060\n",
      "Epoch 95/100\n",
      "5/5 [==============================] - 1s 182ms/step - loss: 9.0061e-04 - accuracy: 1.0000 - val_loss: 0.7865 - val_accuracy: 0.8060\n",
      "Epoch 96/100\n",
      "5/5 [==============================] - 1s 184ms/step - loss: 8.8306e-04 - accuracy: 1.0000 - val_loss: 0.7874 - val_accuracy: 0.8060\n",
      "Epoch 97/100\n",
      "5/5 [==============================] - 1s 189ms/step - loss: 8.6837e-04 - accuracy: 1.0000 - val_loss: 0.7880 - val_accuracy: 0.8060\n",
      "Epoch 98/100\n",
      "5/5 [==============================] - 1s 191ms/step - loss: 8.5321e-04 - accuracy: 1.0000 - val_loss: 0.7895 - val_accuracy: 0.8060\n",
      "Epoch 99/100\n",
      "5/5 [==============================] - 1s 197ms/step - loss: 8.3826e-04 - accuracy: 1.0000 - val_loss: 0.7905 - val_accuracy: 0.8060\n",
      "Epoch 100/100\n",
      "5/5 [==============================] - 1s 189ms/step - loss: 8.2435e-04 - accuracy: 1.0000 - val_loss: 0.7912 - val_accuracy: 0.8060\n"
     ]
    },
    {
     "data": {
      "text/plain": [
       "<keras.callbacks.History at 0x1be8fb6cb20>"
      ]
     },
     "execution_count": 18,
     "metadata": {},
     "output_type": "execute_result"
    }
   ],
   "source": [
    "model.fit(train, y_train, epochs=100, validation_data=(X_valid, y_valid))"
   ]
  },
  {
   "cell_type": "code",
   "execution_count": 19,
   "id": "494768fe",
   "metadata": {},
   "outputs": [],
   "source": [
    "model.compile(loss='categorical_crossentropy', optimizer='adam', metrics=['accuracy'])"
   ]
  },
  {
   "cell_type": "code",
   "execution_count": 20,
   "id": "b8d52fec",
   "metadata": {},
   "outputs": [
    {
     "name": "stdout",
     "output_type": "stream",
     "text": [
      "Done!\n"
     ]
    }
   ],
   "source": [
    "count = 0\n",
    "videoFile = \"Accident-1.mp4\"\n",
    "cap = cv2.VideoCapture(videoFile)\n",
    "frameRate = cap.get(3) #frame rate\n",
    "x=1\n",
    "while(cap.isOpened()):\n",
    "    frameId = cap.get(1) #current frame number\n",
    "    ret, frame = cap.read()\n",
    "    if (ret != True):\n",
    "        break\n",
    "    if (frameId % math.floor(frameRate) == 0):\n",
    "        filename =\"test%d.jpg\" % count;count+=1\n",
    "        cv2.imwrite(filename, frame)\n",
    "cap.release()\n",
    "print (\"Done!\")"
   ]
  },
  {
   "cell_type": "code",
   "execution_count": 21,
   "id": "1cf0f0cd",
   "metadata": {},
   "outputs": [],
   "source": [
    "test = pd.read_csv('test.csv')"
   ]
  },
  {
   "cell_type": "code",
   "execution_count": 22,
   "id": "9047ac11",
   "metadata": {},
   "outputs": [],
   "source": [
    "test_image = []\n",
    "for img_name in test.Image_ID:\n",
    "    img = plt.imread('' + img_name)\n",
    "    test_image.append(img)\n",
    "test_img = np.array(test_image)"
   ]
  },
  {
   "cell_type": "code",
   "execution_count": 23,
   "id": "f32558f2",
   "metadata": {},
   "outputs": [],
   "source": [
    "test_image = []\n",
    "for i in range(0,test_img.shape[0]):\n",
    "    a = resize(test_img[i], preserve_range=True, output_shape=(224,224)).astype(int)\n",
    "    test_image.append(a)\n",
    "test_image = np.array(test_image)"
   ]
  },
  {
   "cell_type": "code",
   "execution_count": 24,
   "id": "ff1260b5",
   "metadata": {},
   "outputs": [
    {
     "name": "stdout",
     "output_type": "stream",
     "text": [
      "1/1 [==============================] - 1s 1s/step\n"
     ]
    },
    {
     "data": {
      "text/plain": [
       "(9, 7, 7, 512)"
      ]
     },
     "execution_count": 24,
     "metadata": {},
     "output_type": "execute_result"
    }
   ],
   "source": [
    "test_image = preprocess_input(test_image, data_format=None)\n",
    "\n",
    "# extracting features from the images using pretrained model\n",
    "test_image = base_model.predict(test_image)\n",
    "test_image.shape"
   ]
  },
  {
   "cell_type": "code",
   "execution_count": 25,
   "id": "b9f69282",
   "metadata": {},
   "outputs": [],
   "source": [
    "test_image = test_image.reshape(9, 7*7*512)\n",
    "\n",
    "# zero centered images\n",
    "test_image = test_image/test_image.max()"
   ]
  },
  {
   "cell_type": "code",
   "execution_count": 26,
   "id": "721c02ae",
   "metadata": {},
   "outputs": [
    {
     "name": "stdout",
     "output_type": "stream",
     "text": [
      "1/1 [==============================] - 0s 53ms/step\n"
     ]
    }
   ],
   "source": [
    "predictions = model.predict(test_image)"
   ]
  },
  {
   "cell_type": "code",
   "execution_count": 27,
   "id": "1f040ef0",
   "metadata": {
    "scrolled": true
   },
   "outputs": [
    {
     "name": "stdout",
     "output_type": "stream",
     "text": [
      "No Accident\n",
      "No Accident\n",
      "No Accident\n",
      "No Accident\n",
      "No Accident\n",
      "Accident\n",
      "Accident\n",
      "Accident\n",
      "Accident\n"
     ]
    }
   ],
   "source": [
    "for i in range (0,9):\n",
    "    if predictions[i][0]<predictions[i][1]:\n",
    "        print(\"No Accident\")\n",
    "    else:\n",
    "        print(\"Accident\")\n",
    "    "
   ]
  },
  {
   "cell_type": "code",
   "execution_count": 28,
   "id": "6913a9cb",
   "metadata": {},
   "outputs": [],
   "source": [
    "geoLoc = Nominatim(user_agent=\"GetLoc\")\n",
    "g = geocoder.ip('me')\n",
    "locname = geoLoc.reverse(g.latlng)\n",
    "dir_path ='C:/Users/Vinoth/AccidentDetection/Testing'\n",
    "account_sid = 'copy and paste the acc_sid from twilio sms service'\n",
    "auth_token = 'copy and paste the auth_token from twilio sms service'\n",
    "client = Client(account_sid, auth_token)"
   ]
  },
  {
   "cell_type": "code",
   "execution_count": 32,
   "id": "80b3e4f1",
   "metadata": {},
   "outputs": [
    {
     "name": "stdout",
     "output_type": "stream",
     "text": [
      "done\n"
     ]
    }
   ],
   "source": [
    "cap = cv2.VideoCapture('C:/Users/Vinoth/AccidentDetection/AccidentVideo.mp4')\n",
    "i=0\n",
    "flag=0\n",
    "while(True):\n",
    "    ret,frame=cap.read()\n",
    "    if ret==True:\n",
    "        if predictions[int(i/11)%9][0]<predictions[int(i/11)%9][1]:\n",
    "            predict=\"No Accident\"\n",
    "        else:\n",
    "            predict=\"Accident\"\n",
    "            flag=1\n",
    "        font = cv2.FONT_HERSHEY_SIMPLEX\n",
    "        cv2.putText(frame,\n",
    "                predict,\n",
    "                (50, 50),\n",
    "                font, 1,\n",
    "                (0, 255, 255),\n",
    "                3,\n",
    "                cv2.LINE_4)\n",
    "        cv2.imshow('Frame', frame)\n",
    "        i=i+1\n",
    "        if cv2.waitKey(1) & 0xFF == ord('q'):\n",
    "            break\n",
    "    else:\n",
    "        break\n",
    "if flag==1:\n",
    "    client.messages.create(\n",
    "                 body=\"Accident detected in \"+locname.address,\n",
    "                 from_='+Enter the virtual number (from twilio)',\n",
    "                 to='+Enter the number that you want to send SMS to')\n",
    "    print(\"done\")\n",
    "\n",
    "# release the cap object\n",
    "cap.release()\n",
    "# close all windows\n",
    "cv2.destroyAllWindows()\n"
   ]
  },
  {
   "cell_type": "code",
   "execution_count": null,
   "id": "75840ccb",
   "metadata": {},
   "outputs": [],
   "source": []
  },
  {
   "cell_type": "code",
   "execution_count": null,
   "id": "12713888-923d-426e-bf91-5fd984c931ab",
   "metadata": {},
   "outputs": [],
   "source": []
  },
  {
   "cell_type": "code",
   "execution_count": null,
   "id": "898b592f-f0e3-4399-b503-6171f6e0ca8c",
   "metadata": {},
   "outputs": [],
   "source": []
  }
 ],
 "metadata": {
  "kernelspec": {
   "display_name": "Python 3 (ipykernel)",
   "language": "python",
   "name": "python3"
  },
  "language_info": {
   "codemirror_mode": {
    "name": "ipython",
    "version": 3
   },
   "file_extension": ".py",
   "mimetype": "text/x-python",
   "name": "python",
   "nbconvert_exporter": "python",
   "pygments_lexer": "ipython3",
   "version": "3.9.7"
  }
 },
 "nbformat": 4,
 "nbformat_minor": 5
}
